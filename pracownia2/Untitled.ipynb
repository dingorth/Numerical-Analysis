{
 "cells": [
  {
   "cell_type": "code",
   "execution_count": 25,
   "metadata": {
    "collapsed": false
   },
   "outputs": [
    {
     "name": "stderr",
     "output_type": "stream",
     "text": [
      "WARNING: Method definition difference_quotients(Any, Any) in module Main at In[24]:7 overwritten at In[25]:3.\n"
     ]
    },
    {
     "data": {
      "text/plain": [
       "difference_quotients (generic function with 1 method)"
      ]
     },
     "execution_count": 25,
     "metadata": {},
     "output_type": "execute_result"
    }
   ],
   "source": [
    "# dynamicznie | aka wspolczynniki postaci Newtona\n",
    "function difference_quotients(f,args)\n",
    "    values = map(f,args)\n",
    "    \n",
    "    for i in 1:length(args)-1\n",
    "        for j in length(args):-1:1+i\n",
    "            values[j] = ( values[j] - values[j-1] ) / ( args[j] - args[j-i] )\n",
    "#             @show values\n",
    "        end\n",
    "#         @show values\n",
    "    end\n",
    "    \n",
    "    return values; \n",
    "end \n",
    "\n",
    "# s(x) = x^4 - x^3 + x^2 -x + 1\n",
    "# @show difference_quotients(s,[-2,-1,0,1,2,3])\n"
   ]
  },
  {
   "cell_type": "code",
   "execution_count": 95,
   "metadata": {
    "collapsed": false
   },
   "outputs": [
    {
     "name": "stdout",
     "output_type": "stream",
     "text": [
      "tmp = [0.0,-29.5714,-13.7143,-11.5714,0.0]\n",
      "(y[3])(1) = -1.0\n"
     ]
    },
    {
     "name": "stderr",
     "output_type": "stream",
     "text": [
      "WARNING: Method definition lambda(Any, Any) in module Main at In[94]:2 overwritten at In[95]:2.\n",
      "WARNING: Method definition h(Any, Any) in module Main at In[94]:6 overwritten at In[95]:6.\n",
      "WARNING: Method definition d(Any, Any, Any) in module Main at In[94]:10 overwritten at In[95]:10.\n",
      "WARNING: Method definition Ms(Any, Any) in module Main at In[94]:14 overwritten at In[95]:14.\n",
      "WARNING: Method definition f(Any) in module Main at In[94]:40 overwritten at In[95]:40.\n",
      "WARNING: Method definition spline(Any, Any, Any) in module Main at In[94]:47 overwritten at In[95]:47.\n"
     ]
    },
    {
     "data": {
      "text/plain": [
       "-1.0"
      ]
     },
     "execution_count": 95,
     "metadata": {},
     "output_type": "execute_result"
    }
   ],
   "source": [
    "function lambda(k,args)\n",
    "    return h(k,args)/(h(k+1,args) + h(k,args))\n",
    "end\n",
    "\n",
    "function h(k,args)\n",
    "    return args[k] - args[k-1]\n",
    "end\n",
    "\n",
    "function d(k,f,args)\n",
    "    return 6*difference_quotients(f,[args[k-1],args[k],args[k+1]])[3]\n",
    "end\n",
    "\n",
    "function Ms(f,args)\n",
    "    n = length(args)\n",
    "    qs = [0.0]\n",
    "    us = [0.0]\n",
    "    q = 0\n",
    "    u = 0\n",
    "    for k in 1:1:n-2\n",
    "        p = lambda(k+1,args)*q + 2\n",
    "        q = ( lambda(k+1,args)-1 ) / p\n",
    "        u = ( d(k+1,f,args) - lambda(k+1,args)*u) / p\n",
    "        push!(qs,q)\n",
    "        push!(us,u)\n",
    "    end\n",
    "       \n",
    "    Ms = [u]\n",
    "    M = u\n",
    "    for k in n-3:-1:1\n",
    "        M = us[k+1] + qs[k+1]*M\n",
    "        push!(Ms,M)\n",
    "    end\n",
    "    push!(Ms,0.0)\n",
    "    Ms = reverse(Ms)\n",
    "    push!(Ms,0.0)\n",
    "    return Ms\n",
    "end\n",
    "\n",
    "f(x) = x^3 - 8*x^2 + x + 5\n",
    "args = [-2,-1,0,1,2]\n",
    "tmp = Ms(f,args)\n",
    "\n",
    "@show tmp\n",
    "\n",
    "function spline(Ms,f,args)\n",
    "    func = [];\n",
    "    for k in 1:1:length(args)-1\n",
    "        g(x) = ( (Ms[k]*(args[k+1]-x)^3)/6 + (Ms[k+1]*(x-args[k])^3)/6 + (f(args[k])-(Ms[k]*(h(k+1,args)^2))/6)*(args[k+1] -x) +   (f(args[k+1])-(Ms[k+1]*(h(k+1,args)^2))/6)*(x-args[k]) )/h(k+1,args) \n",
    "        push!(func,g)\n",
    "    end\n",
    "    return func\n",
    "end\n",
    "\n",
    "y = spline(tmp,f,args)\n",
    "\n",
    "@show y[3](1)\n",
    "\n",
    "# typeof(y[1])"
   ]
  }
 ],
 "metadata": {
  "anaconda-cloud": {},
  "kernelspec": {
   "display_name": "Julia 0.5.0",
   "language": "julia",
   "name": "julia-0.5"
  },
  "language_info": {
   "file_extension": ".jl",
   "mimetype": "application/julia",
   "name": "julia",
   "version": "0.5.0"
  }
 },
 "nbformat": 4,
 "nbformat_minor": 1
}
